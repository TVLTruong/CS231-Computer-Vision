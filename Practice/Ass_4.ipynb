{
  "nbformat": 4,
  "nbformat_minor": 0,
  "metadata": {
    "colab": {
      "provenance": []
    },
    "kernelspec": {
      "name": "python3",
      "display_name": "Python 3"
    },
    "language_info": {
      "name": "python"
    }
  },
  "cells": [
    {
      "cell_type": "markdown",
      "source": [
        "# Thông tin\n",
        "1. **MSSV:** 22521586\n",
        "2. **Họ Tên:** Trần Võ Lâm Trường\n",
        "3. **Bài tập:** Bài tập 4\n",
        "4. **Ngày thực hiện:** 16/5/2024  \n",
        "\n"
      ],
      "metadata": {
        "id": "DjwkfT87Vzkk"
      }
    },
    {
      "cell_type": "code",
      "source": [
        "from google.colab import drive\n",
        "drive.mount('/gdrive')"
      ],
      "metadata": {
        "colab": {
          "base_uri": "https://localhost:8080/"
        },
        "id": "8LoyczR5UCJ4",
        "outputId": "4b4addf4-6f73-43ea-aa6a-b51fe84b5f27"
      },
      "execution_count": null,
      "outputs": [
        {
          "output_type": "stream",
          "name": "stdout",
          "text": [
            "Drive already mounted at /gdrive; to attempt to forcibly remount, call drive.mount(\"/gdrive\", force_remount=True).\n"
          ]
        }
      ]
    },
    {
      "cell_type": "markdown",
      "source": [
        "# THƯ VIỆN"
      ],
      "metadata": {
        "id": "XDzHt18ST5qL"
      }
    },
    {
      "cell_type": "code",
      "source": [
        "\n",
        "import os\n",
        "import numpy as np\n",
        "from skimage.feature import hog\n",
        "from sklearn.model_selection import train_test_split\n",
        "from sklearn.neighbors import KNeighborsClassifier\n",
        "from sklearn.linear_model import LogisticRegression\n",
        "from sklearn.metrics import accuracy_score, recall_score, precision_score\n",
        "import cv2 as cv\n",
        "from google.colab.patches import cv2_imshow"
      ],
      "metadata": {
        "id": "-ZbBcfq3Tqmx"
      },
      "execution_count": null,
      "outputs": []
    },
    {
      "cell_type": "markdown",
      "source": [
        "# Thực hiện"
      ],
      "metadata": {
        "id": "Zx5nUiDCUhsN"
      }
    },
    {
      "cell_type": "code",
      "execution_count": null,
      "metadata": {
        "id": "xN-c6jm0Tn3Y"
      },
      "outputs": [],
      "source": [
        "dir_data = '/gdrive/MyDrive/UIT/Semester 4/[CS231] Computer Vision/Assignment/CS231.O21.2/Baitap/Baitap4/Dataset/Pedestrian'\n",
        "dir_1 = os.path.join(dir_data, 'Pedestrian')\n",
        "dir_2 = os.path.join(dir_data, 'NonPedestrian')"
      ]
    },
    {
      "cell_type": "code",
      "source": [
        "features = []\n",
        "labels = []\n",
        "\n",
        "for each in os.listdir(dir_1):\n",
        "      img = cv.imread(os.path.join(dir_1, each))\n",
        "      img = cv.cvtColor(cv.resize(img,(128,256)), cv.COLOR_BGR2GRAY)\n",
        "      hog_features = hog(img, pixels_per_cell=(8, 8), cells_per_block=(2, 2))\n",
        "      features.append(hog_features)\n",
        "      labels.append(0)\n",
        "\n",
        "for each in os.listdir(dir_2):\n",
        "      img = cv.imread(os.path.join(dir_2, each))\n",
        "      img = cv.cvtColor(cv.resize(img,(128,256)), cv.COLOR_BGR2GRAY)\n",
        "      hog_features = hog(img, pixels_per_cell=(8, 8), cells_per_block=(2, 2))\n",
        "      features.append(hog_features)\n",
        "      labels.append(1)\n",
        "\n",
        "features = np.array(features)\n",
        "labels = np.array(labels)"
      ],
      "metadata": {
        "id": "WNF02Wj-dM7I"
      },
      "execution_count": null,
      "outputs": []
    },
    {
      "cell_type": "code",
      "source": [
        "X_train, X_test, y_train, y_test = train_test_split(features, labels, test_size=0.2, random_state=42, shuffle = True)"
      ],
      "metadata": {
        "id": "7w49bmZNdX28"
      },
      "execution_count": null,
      "outputs": []
    },
    {
      "cell_type": "code",
      "source": [
        "knn_classifier = KNeighborsClassifier(n_neighbors=5)\n",
        "knn_classifier.fit(X_train, y_train)\n",
        "y_pred_knn = knn_classifier.predict(X_test)"
      ],
      "metadata": {
        "id": "F2fF-CqKdaL5"
      },
      "execution_count": null,
      "outputs": []
    },
    {
      "cell_type": "code",
      "source": [
        "precision = precision_score(y_test, y_pred_knn)\n",
        "recall = recall_score(y_test, y_pred_knn)\n",
        "accuracy = accuracy_score(y_test, y_pred_knn)\n",
        "\n",
        "print(\"Accuracy:\", accuracy)"
      ],
      "metadata": {
        "colab": {
          "base_uri": "https://localhost:8080/"
        },
        "id": "9cZGizuJddDA",
        "outputId": "59b9e088-ea6d-42eb-ed5c-be2789ff25e1"
      },
      "execution_count": null,
      "outputs": [
        {
          "output_type": "stream",
          "name": "stdout",
          "text": [
            "Accuracy: 0.625\n"
          ]
        }
      ]
    },
    {
      "cell_type": "code",
      "source": [
        "logistic_classifier = LogisticRegression()\n",
        "logistic_classifier.fit(X_train, y_train)\n",
        "y_pred_logistic = logistic_classifier.predict(X_test)\n"
      ],
      "metadata": {
        "id": "GkkAgoZPdgnN"
      },
      "execution_count": null,
      "outputs": []
    },
    {
      "cell_type": "code",
      "source": [
        "precision = precision_score(y_test, y_pred_knn)\n",
        "recall = recall_score(y_test, y_pred_knn)\n",
        "accuracy = accuracy_score(y_test, y_pred_knn)\n",
        "\n",
        "print(\"Accuracy:\", accuracy)"
      ],
      "metadata": {
        "colab": {
          "base_uri": "https://localhost:8080/"
        },
        "id": "KXFlCCPzdip-",
        "outputId": "83cb221c-ee96-49cc-837e-3d001e8bce26"
      },
      "execution_count": null,
      "outputs": [
        {
          "output_type": "stream",
          "name": "stdout",
          "text": [
            "Accuracy: 0.625\n"
          ]
        }
      ]
    }
  ]
}