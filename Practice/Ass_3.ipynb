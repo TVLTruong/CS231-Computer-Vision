{
  "nbformat": 4,
  "nbformat_minor": 0,
  "metadata": {
    "colab": {
      "provenance": [],
      "gpuType": "T4"
    },
    "kernelspec": {
      "name": "python3",
      "display_name": "Python 3"
    },
    "language_info": {
      "name": "python"
    },
    "accelerator": "GPU"
  },
  "cells": [
    {
      "cell_type": "markdown",
      "source": [
        "# Thông tin\n",
        "1. **MSSV:** 22521586\n",
        "2. **Họ Tên:** Trần Võ Lâm Trường\n",
        "3. **Bài tập:** Bài tập 3\n",
        "4. **Ngày thực hiện:** 26/3/2024  \n",
        "\n"
      ],
      "metadata": {
        "id": "DjwkfT87Vzkk"
      }
    },
    {
      "cell_type": "markdown",
      "source": [
        "# Kết nối đến google drive"
      ],
      "metadata": {
        "id": "oQijosF4Yhue"
      }
    },
    {
      "cell_type": "code",
      "source": [
        "from google.colab import drive\n",
        "drive.mount('/gdrive')"
      ],
      "metadata": {
        "id": "easqmcIhVrUk",
        "colab": {
          "base_uri": "https://localhost:8080/"
        },
        "outputId": "7537a2f8-948b-4d11-d418-d310eb9583e8"
      },
      "execution_count": null,
      "outputs": [
        {
          "output_type": "stream",
          "name": "stdout",
          "text": [
            "Drive already mounted at /gdrive; to attempt to forcibly remount, call drive.mount(\"/gdrive\", force_remount=True).\n"
          ]
        }
      ]
    },
    {
      "cell_type": "markdown",
      "source": [
        "# Đặt các đường dẫn cho bài tập"
      ],
      "metadata": {
        "id": "5cSD0pggZe8e"
      }
    },
    {
      "cell_type": "code",
      "source": [
        "# Khai báo đường dẫn đến môn học CS231.O21.2\n",
        "import os\n",
        "dir_monhoc = '/gdrive/My Drive/UIT/Semester 4/[CS231] Computer Vision/Assignment/CS231.O21.2'\n",
        "\n",
        "# Khai báo đường dẫn đến bài tập\n",
        "dir_baitap_3 = os.path.join (dir_monhoc, 'Baitap', 'Baitap3')\n",
        "dir_data = os.path.join (dir_baitap_3, 'dogscats_small')"
      ],
      "metadata": {
        "id": "yuHD45PwXfcU"
      },
      "execution_count": null,
      "outputs": []
    },
    {
      "cell_type": "code",
      "source": [
        "dir_train = os.path.join (dir_data, 'train')\n",
        "dir_test = os.path.join (dir_data, 'test')"
      ],
      "metadata": {
        "id": "cQwHMf_ntPt4"
      },
      "execution_count": null,
      "outputs": []
    },
    {
      "cell_type": "markdown",
      "source": [
        "# Khai báo thư viện"
      ],
      "metadata": {
        "id": "Xn68Xxekuhq_"
      }
    },
    {
      "cell_type": "code",
      "source": [
        "import cv2 as cv\n",
        "from google.colab.patches import cv2_imshow\n",
        "import numpy as np\n",
        "import matplotlib.pyplot as plt\n",
        "from sklearn.neighbors import KNeighborsClassifier\n",
        "from sklearn.linear_model import LogisticRegression\n"
      ],
      "metadata": {
        "id": "Xtqw7XYJuhRr"
      },
      "execution_count": null,
      "outputs": []
    },
    {
      "cell_type": "markdown",
      "source": [
        "# Tính histogram cho ảnh"
      ],
      "metadata": {
        "id": "9xPoJsvBux2k"
      }
    },
    {
      "cell_type": "code",
      "source": [
        "def computeHistogram(pathfilename):\n",
        "    img = cv.imread(pathfilename,0)\n",
        "    hist = cv.calcHist([img],[0],None,\n",
        "                       [256],[0,256])\n",
        "    size = img.shape[0]*img.shape[1]\n",
        "    hist = hist / size\n",
        "    return hist"
      ],
      "metadata": {
        "id": "nK6a9dbUvTED"
      },
      "execution_count": null,
      "outputs": []
    },
    {
      "cell_type": "markdown",
      "source": [
        "# Đọc ảnh"
      ],
      "metadata": {
        "id": "211YePSi49GT"
      }
    },
    {
      "cell_type": "code",
      "source": [
        "def ReadData(path_to_files):\n",
        "  features = []\n",
        "  labels = []\n",
        "  list_files = os.listdir(path_to_files)\n",
        "  list_files.sort()\n",
        "  for file_name in list_files:\n",
        "      label = file_name.split(\".\")[0]\n",
        "      img_path = os.path.join(path_to_files, file_name)\n",
        "      hist = computeHistogram(img_path)\n",
        "      features.append(hist.flatten())\n",
        "      labels.append(label)\n",
        "  return np.array(features), np.array(labels)"
      ],
      "metadata": {
        "id": "Aq7TQrB_vp5u"
      },
      "execution_count": null,
      "outputs": []
    },
    {
      "cell_type": "code",
      "source": [
        "train_features, train_labels = ReadData(dir_train)\n",
        "test_features, test_labels = ReadData(dir_test)"
      ],
      "metadata": {
        "id": "RZmBiGRUztK7"
      },
      "execution_count": null,
      "outputs": []
    },
    {
      "cell_type": "markdown",
      "source": [],
      "metadata": {
        "id": "FmfBsJuaOJOw"
      }
    },
    {
      "cell_type": "markdown",
      "source": [
        "# kNN"
      ],
      "metadata": {
        "id": "0LFepI_u5yzG"
      }
    },
    {
      "cell_type": "code",
      "source": [
        "model = KNeighborsClassifier(n_neighbors=1)\n",
        "model.fit(train_features, train_labels)\n",
        "acc = model.score(test_features, test_labels)\n",
        "print(\"Accuracy:\", acc)"
      ],
      "metadata": {
        "colab": {
          "base_uri": "https://localhost:8080/"
        },
        "id": "3wifiFT5xH-8",
        "outputId": "fa02f1d1-58dc-4545-adec-8896088e9fec"
      },
      "execution_count": null,
      "outputs": [
        {
          "output_type": "stream",
          "name": "stdout",
          "text": [
            "Accuracy: 0.5666666666666667\n"
          ]
        }
      ]
    },
    {
      "cell_type": "markdown",
      "source": [
        "# Logistic Regression"
      ],
      "metadata": {
        "id": "Tv1op1Tz7LdH"
      }
    },
    {
      "cell_type": "code",
      "source": [
        "# Khởi tạo mô hình Logistic Regression\n",
        "model_1 = LogisticRegression()#random_state = 22521586)\n",
        "\n",
        "# Huấn luyện mô hình với dữ liệu huấn luyện\n",
        "model_1.fit(train_features, train_labels)\n",
        "\n",
        "# Đánh giá độ chính xác trên dữ liệu thử nghiệm\n",
        "acc_1 = model_1.score(test_features, test_labels)\n",
        "print(\"Accuracy:\", acc_1)"
      ],
      "metadata": {
        "colab": {
          "base_uri": "https://localhost:8080/"
        },
        "id": "umLQT4v17QuY",
        "outputId": "c7cba93a-876e-432b-dfcb-00a4145a7cd4"
      },
      "execution_count": null,
      "outputs": [
        {
          "output_type": "stream",
          "name": "stdout",
          "text": [
            "Accuracy: 0.36666666666666664\n"
          ]
        }
      ]
    },
    {
      "cell_type": "markdown",
      "source": [
        "# So sánh 2 phương pháp kNN và Logistic Regression"
      ],
      "metadata": {
        "id": "dorYvnuQ-CuO"
      }
    },
    {
      "cell_type": "markdown",
      "source": [
        "## **Kết quả:**\n",
        "\n",
        "* kNN: 0.5666666666666667\n",
        "* LogisticRegression: 0.36666666666666664\n",
        "\n",
        "## **Phân tích:**\n",
        "**Dựa vào kết quả trên, ta có thể thấy:**\n",
        "* Phương pháp kNN có độ chính xác cao hơn LogisticRegression trong việc phân loại ảnh chó và mèo trong tập dữ liệu dogscats_small.\n",
        "* Độ chính xác của kNN cao hơn 20% so với LogisticRegression.\n",
        "\n",
        "**Lý do:**\n",
        "\n",
        "kNN phù hợp hơn cho tập dữ liệu dogscats_small:\n",
        "* Tập dữ liệu này có kích thước nhỏ, chỉ với 80 ảnh.\n",
        "* kNN hoạt động hiệu quả với tập dữ liệu nhỏ.\n",
        "* kNN không yêu cầu mô hình phức tạp để học tập.\n",
        "\n",
        "LogisticRegression có thể gặp khó khăn với tập dữ liệu nhỏ:\n",
        "* LogisticRegression là mô hình học máy tuyến tính.\n",
        "* Mô hình tuyến tính có thể gặp khó khăn trong việc học các mối quan hệ phức tạp trong tập dữ liệu nhỏ."
      ],
      "metadata": {
        "id": "hunNgod1-PqU"
      }
    }
  ]
}